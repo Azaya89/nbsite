{
 "cells": [
  {
   "attachments": {},
   "cell_type": "markdown",
   "metadata": {},
   "source": [
    "# Example 22"
   ]
  },
  {
   "cell_type": "code",
   "execution_count": null,
   "metadata": {
    "execution": {
     "iopub.execute_input": "2023-01-03T13:02:56.164070Z",
     "iopub.status.busy": "2023-01-03T13:02:56.163703Z",
     "iopub.status.idle": "2023-01-03T13:02:56.168243Z",
     "shell.execute_reply": "2023-01-03T13:02:56.167612Z"
    }
   },
   "outputs": [],
   "source": [
    "print('example22')"
   ]
  }
 ],
 "metadata": {
  "kernelspec": {
   "display_name": "holoviz310",
   "language": "python",
   "name": "python3"
  },
  "language_info": {
   "codemirror_mode": {
    "name": "ipython",
    "version": 3
   },
   "file_extension": ".py",
   "mimetype": "text/x-python",
   "name": "python",
   "nbconvert_exporter": "python",
   "pygments_lexer": "ipython3",
   "version": "3.10.6"
  },
  "vscode": {
   "interpreter": {
    "hash": "16859497ccde2531fdad35f68a580f7157a3bdbaf0564a3f6914cec7160c37da"
   }
  }
 },
 "nbformat": 4,
 "nbformat_minor": 2
}
