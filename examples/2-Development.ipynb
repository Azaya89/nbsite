{
 "cells": [
  {
   "cell_type": "markdown",
   "metadata": {},
   "source": [
    "`pip install -e .`"
   ]
  },
  {
   "cell_type": "markdown",
   "metadata": {},
   "source": [
    "\n",
    "# Config\n",
    "\n",
    "Something\n",
    "\n",
    "## shared_conf.py\n",
    "\n",
    "Something\n",
    "\n",
    "\n",
    "# Commands\n",
    "\n",
    "Something\n",
    "\n",
    "\n",
    "# Code\n",
    "\n",
    "Something\n",
    "\n",
    "## fix_links.py\n",
    "\n",
    "\n",
    "something\n",
    "\n",
    "\n",
    "## gallery.py\n",
    "\n",
    "\n",
    "something\n",
    "\n",
    "\n",
    "## thumbnailer.py\n",
    "\n",
    "Something\n",
    "\n",
    "\n",
    "## nbbuild.py\n",
    "\n",
    "\n",
    "something\n",
    "\n",
    "## nbpagebuild.py\n",
    "\n",
    "\n",
    "Generates rst containers for all notebooks in examples/\n",
    "\n",
    "\n",
    "## generate_modules.py\n",
    "\n",
    "\n",
    "something\n",
    "\n",
    "\n",
    "## paramdoc.py\n",
    "\n",
    "\n",
    "The ioam-builder docextensions branch provides extensions for Sphinx\n",
    "to document Parameterized classes and generate autodocs for the\n",
    "modules and submodules in each project.\n"
   ]
  },
  {
   "cell_type": "code",
   "execution_count": null,
   "metadata": {},
   "outputs": [],
   "source": []
  }
 ],
 "metadata": {
  "language_info": {
   "name": "python",
   "pygments_lexer": "ipython3"
  }
 },
 "nbformat": 4,
 "nbformat_minor": 2
}
