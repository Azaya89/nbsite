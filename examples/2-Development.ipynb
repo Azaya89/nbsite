{
 "cells": [
  {
   "cell_type": "markdown",
   "metadata": {},
   "source": [
    "\n",
    "# Config\n",
    "\n",
    "Something\n",
    "\n",
    "## shared_conf.py\n",
    "\n",
    "Something\n",
    "\n",
    "\n",
    "# Commands\n",
    "\n",
    "Something\n",
    "\n",
    "\n",
    "# Code\n",
    "\n",
    "Something\n",
    "\n",
    "## fix_links.py\n",
    "\n",
    "\n",
    "something\n",
    "\n",
    "\n",
    "## gallery.py\n",
    "\n",
    "\n",
    "something\n",
    "\n",
    "\n",
    "## thumbnailer.py\n",
    "\n",
    "Something\n",
    "\n",
    "\n",
    "## nbbuild.py\n",
    "\n",
    "\n",
    "something\n",
    "\n",
    "## nbpagebuild.py\n",
    "\n",
    "\n",
    "Generates rst containers for all notebooks in examples/\n",
    "\n",
    "\n",
    "## generate_modules.py\n",
    "\n",
    "\n",
    "something\n",
    "\n",
    "\n",
    "## paramdoc.py\n",
    "\n",
    "\n",
    "The ioam-builder docextensions branch provides extensions for Sphinx\n",
    "to document Parameterized classes and generate autodocs for the\n",
    "modules and submodules in each project.\n"
   ]
  },
  {
   "cell_type": "code",
   "execution_count": null,
   "metadata": {},
   "outputs": [],
   "source": []
  }
 ],
 "metadata": {
  "kernelspec": {
   "display_name": "Python 3",
   "language": "python",
   "name": "python3"
  },
  "language_info": {
   "codemirror_mode": {
    "name": "ipython",
    "version": 3
   },
   "file_extension": ".py",
   "mimetype": "text/x-python",
   "name": "python",
   "nbconvert_exporter": "python",
   "pygments_lexer": "ipython3",
   "version": "3.6.3"
  }
 },
 "nbformat": 4,
 "nbformat_minor": 2
}
