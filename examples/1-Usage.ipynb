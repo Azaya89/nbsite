{
 "cells": [
  {
   "cell_type": "markdown",
   "metadata": {},
   "source": [
    "Some overview text about notebooks -> site, tested. Sphinx. Etc\n",
    "\n",
    "Things \"definitely work\" if:\n",
    "\n",
    "  * you follow all the steps below\n",
    "  * you are using holoviews for visualization\n",
    "  * you are using conda, on linux or mac\n",
    "  \n",
    "Things might still work if you skip and/or modify steps, or are using other visualization packages, or if you are using windows (but all untested).\n",
    "\n",
    "Recommend you start from the procedure below, get site building successfully, then begin customizing."
   ]
  },
  {
   "cell_type": "markdown",
   "metadata": {},
   "source": [
    "# Prerequisites\n",
    "\n",
    "1. You want a 'static', fairly self contained site (i.e. just ordinary web server required, you can build and serve locally or copy build dir to server, and things will just work).\n",
    "\n",
    "2. You have one or more sets of notebooks (e.g. `examples/`, or `examples/getting_started` + `examples/user_guide` + `examples/gallery`).\n",
    "\n",
    "3. The packages you want to use in the notebooks are installed.\n",
    "\n",
    "3. (optional, for API docs) Any packages for which you want to generate API docs are also installed (which could be via e.g. `pip install -e /path/to/pkg`)."
   ]
  },
  {
   "cell_type": "markdown",
   "metadata": {},
   "source": [
    "# Installation\n",
    "\n",
    "0. Ensure you have installed packages necessary to run your notebooks, and any packages for which you wish to generate a reference manual.\n",
    "\n",
    "1. `conda install -c conda-forge python=3.6* notebook ipython sphinx beautifulsoup4 graphviz`\n",
    "\n",
    "2. `pip install nbsite`\n",
    "\n",
    "3. `pip install sphinx_ioam_theme` (or, create/use an alternative theme - currently untested)"
   ]
  },
  {
   "cell_type": "markdown",
   "metadata": {},
   "source": [
    "# One time setup\n",
    "\n",
    "You can skip various steps below depending on what you already have. But if you skip a step, you may need to add something to one of your existing files (should be able to figure that out by looking at the corresponding file in `nbsite/tmplate`).\n",
    "\n",
    "1. Make a doc dir: `mkdir doc && cd doc`\n",
    "\n",
    "2. Create a set of basic pages: `nbsite_from_tmplate.py .` (will not overwrite existing files)\n",
    "\n",
    "3. Edit conf.py as appropriate for your project.\n",
    "\n",
    "4. Edit doc/index.rst toctree to match pages in conf.py\n",
    "\n",
    "5. Edit/delete other pages as desired, or add pages. (might want to grep for 'project' and 'holoviews'...)\n",
    "\n",
    "5. Commit initial version of your pages  `git commit -m \"something\" FAQ.rst Makefile about.rst conf.py index.rst latest_news.html ...` (etc)"
   ]
  },
  {
   "cell_type": "markdown",
   "metadata": {},
   "source": [
    "# Building site\n",
    "\n",
    "0. `export MODULE=yourmodule`, `export PROJECT=yourproject` (or just replace as appropriate in commands below)\n",
    "\n",
    "1. (optional, if you want ref manual) Generate reference manual pages: `nbsite_generate_modules.py ${MODULE} -d ./Reference_Manual -n ${PROJECT} -e tests` (TODO: commit or not...I reckon not)\n",
    "\n",
    "2. Generate rst containers for notebooks: `nbsite_nbpagebuild.py ${PROJECT} ../examples .` (TODO: also reckon don't commit)\n",
    "\n",
    "3. (optional, if you want gallery) Make gallery: `nbsite_gallery.py ../`\n",
    "\n",
    "4. Make site: `sphinx-build -b html . ./_build/html`\n",
    "\n",
    "5. (TODO: go look at the travis file to copy the find/move commands)\n",
    "\n",
    "6. Update cross-notebook links for html: `nbsite_fix_links.py _build/html`\n",
    "\n",
    "7. View the result in a browser at localhost:8000: `pushd _build/html && python -m http.server`\n"
   ]
  },
  {
   "cell_type": "markdown",
   "metadata": {},
   "source": [
    "# Customization\n",
    "\n",
    "Themes have options, set in conf.py\n",
    "\n",
    "Logo/favicon: add files to `doc/_static` ... \n",
    "\n",
    "css: add files to `doc/_static` ... \n",
    "\n",
    "js: add files to `doc/_static` ... "
   ]
  },
  {
   "cell_type": "markdown",
   "metadata": {},
   "source": [
    "# Automatic deployment to gh pages\n",
    "\n",
    "See nbsite's `.travis.yml` for an example.\n",
    "\n",
    "1. `touch ./_build/html/.nojekyll`\n",
    "\n",
    "2. Something like this into `.travis.yml` (but modify for your own preferences):\n",
    "\n",
    "```\n",
    "deploy:\n",
    "  provider: pages\n",
    "  skip_cleanup: true\n",
    "  github_token: $GITHUB_TOKEN\n",
    "  local_dir: ./_build/html\n",
    "  on:\n",
    "    branch: master\n",
    "```\n"
   ]
  },
  {
   "cell_type": "code",
   "execution_count": null,
   "metadata": {},
   "outputs": [],
   "source": []
  }
 ],
 "metadata": {
  "language_info": {
   "name": "python",
   "pygments_lexer": "ipython3"
  }
 },
 "nbformat": 4,
 "nbformat_minor": 2
}
